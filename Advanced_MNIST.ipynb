{
 "cells": [
  {
   "cell_type": "markdown",
   "metadata": {},
   "source": [
    "Transformations on data\n",
    "\n",
    "Tensorboard logging\n",
    "\n",
    "Uncertainty quantification?\n",
    "\n",
    "ResNet with combination of batch normalization\n",
    "\n",
    "Transformer architecture"
   ]
  },
  {
   "cell_type": "code",
   "execution_count": null,
   "metadata": {},
   "outputs": [],
   "source": []
  }
 ],
 "metadata": {
  "language_info": {
   "name": "python"
  }
 },
 "nbformat": 4,
 "nbformat_minor": 2
}
